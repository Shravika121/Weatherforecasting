{
  "nbformat": 4,
  "nbformat_minor": 0,
  "metadata": {
    "colab": {
      "private_outputs": true,
      "provenance": []
    },
    "kernelspec": {
      "name": "python3",
      "display_name": "Python 3"
    },
    "language_info": {
      "name": "python"
    }
  },
  "cells": [
    {
      "cell_type": "code",
      "execution_count": null,
      "metadata": {
        "id": "QEfptlJ20D_t"
      },
      "outputs": [],
      "source": [
        "import pandas as pd\n",
        "import numpy as np\n",
        "import matplotlib.pyplot as plt\n",
        "import seaborn as sns\n",
        "import plotly.express as px\n",
        "\n",
        "data = pd.read_csv(\"/content/sample_data/DailyDelhiClimateTrain.csv\")\n",
        "print(data.head())"
      ]
    },
    {
      "cell_type": "code",
      "source": [
        "print(data.describe())\n"
      ],
      "metadata": {
        "id": "iNXZhwYt0mWj"
      },
      "execution_count": null,
      "outputs": []
    },
    {
      "cell_type": "code",
      "source": [
        "print(data.info())"
      ],
      "metadata": {
        "id": "iDzYo6kQ0s_d"
      },
      "execution_count": null,
      "outputs": []
    },
    {
      "cell_type": "code",
      "source": [
        "figure = px.line(data, x=\"date\",\n",
        "                 y=\"meantemp\",\n",
        "                 title='Mean Temperature in Delhi Over the Years')\n",
        "figure.show()"
      ],
      "metadata": {
        "id": "bAMNLtdD0yfd"
      },
      "execution_count": null,
      "outputs": []
    },
    {
      "cell_type": "code",
      "source": [
        "figure = px.line(data, x=\"date\",\n",
        "                 y=\"humidity\",\n",
        "                 title='Humidity in Delhi Over the Years')\n",
        "figure.show()"
      ],
      "metadata": {
        "id": "S7fs2ztb05Qt"
      },
      "execution_count": null,
      "outputs": []
    },
    {
      "cell_type": "code",
      "source": [
        "figure = px.line(data, x=\"date\",\n",
        "                 y=\"wind_speed\",\n",
        "                 title='Wind Speed in Delhi Over the Years')\n",
        "figure.show()"
      ],
      "metadata": {
        "id": "LIsHGk-X19sX"
      },
      "execution_count": null,
      "outputs": []
    },
    {
      "cell_type": "code",
      "source": [
        "figure = px.scatter(data_frame = data, x=\"humidity\",\n",
        "                    y=\"meantemp\", size=\"meantemp\",\n",
        "                    trendline=\"ols\",\n",
        "                    title = \"Relationship Between Temperature and Humidity\")\n",
        "figure.show()"
      ],
      "metadata": {
        "id": "A09ycigo2ENe"
      },
      "execution_count": null,
      "outputs": []
    },
    {
      "cell_type": "code",
      "source": [
        "data[\"date\"] = pd.to_datetime(data[\"date\"], format = '%Y-%m-%d')\n",
        "data['year'] = data['date'].dt.year\n",
        "data[\"month\"] = data[\"date\"].dt.month\n",
        "print(data.head())"
      ],
      "metadata": {
        "id": "hmHA6SMy2JML"
      },
      "execution_count": null,
      "outputs": []
    },
    {
      "cell_type": "code",
      "source": [
        "plt.style.use('fivethirtyeight')\n",
        "plt.figure(figsize=(15, 10))\n",
        "plt.title(\"Temperature Change in Delhi Over the Years\")\n",
        "sns.lineplot(data = data, x='month', y='meantemp', hue='year')\n",
        "plt.show()"
      ],
      "metadata": {
        "id": "cooUOGrA2ORo"
      },
      "execution_count": null,
      "outputs": []
    },
    {
      "cell_type": "code",
      "source": [
        "forecast_data = data.rename(columns = {\"date\": \"ds\",\n",
        "                                       \"meantemp\": \"y\"})\n",
        "print(forecast_data)"
      ],
      "metadata": {
        "id": "SN3X9DYs2T1i"
      },
      "execution_count": null,
      "outputs": []
    },
    {
      "cell_type": "code",
      "source": [
        "from prophet import Prophet\n",
        "from prophet.plot import plot_plotly, plot_components_plotly\n",
        "model = Prophet()\n",
        "model.fit(forecast_data)\n",
        "forecasts = model.make_future_dataframe(periods=365)\n",
        "predictions = model.predict(forecasts)\n",
        "plot_plotly(model, predictions)"
      ],
      "metadata": {
        "id": "JL_Pkww-2ap7"
      },
      "execution_count": null,
      "outputs": []
    }
  ]
}